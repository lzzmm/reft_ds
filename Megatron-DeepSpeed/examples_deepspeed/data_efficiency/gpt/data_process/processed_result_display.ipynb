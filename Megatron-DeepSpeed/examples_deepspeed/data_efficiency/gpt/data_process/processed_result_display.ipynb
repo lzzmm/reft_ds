{
 "cells": [
  {
   "cell_type": "code",
   "execution_count": 2,
   "metadata": {},
   "outputs": [],
   "source": [
    "import pandas as pd\n",
    "from tabulate import tabulate\n",
    "\n",
    "def read_and_print_experiment_data(csv_file_name, experiment_name_list, dp_pp_tp=None):\n",
    "    # Read the CSV file into a DataFrame\n",
    "    df = pd.read_csv(csv_file_name)\n",
    "    \n",
    "    # Filter the DataFrame based on the list of experiment names\n",
    "    experiment_df = df[df['experiment'].isin(experiment_name_list)]\n",
    "\n",
    "    # If dp_pp_tp is provided, further filter the DataFrame\n",
    "    if dp_pp_tp:\n",
    "        experiment_df = experiment_df[experiment_df['dp_pp_tp'] == dp_pp_tp]\n",
    "\n",
    "    # Check if the DataFrame is empty\n",
    "    if experiment_df.empty:\n",
    "        print(f\"No data found for experiments: {', '.join(experiment_name_list)}\")\n",
    "        if dp_pp_tp:\n",
    "            print(f\"With dp_pp_tp: {dp_pp_tp}\")\n",
    "        return\n",
    "\n",
    "    # Print the filtered data in an easy-to-read format using tabulate\n",
    "    print(f\"Data for experiments: {', '.join(experiment_name_list)}\")\n",
    "    if dp_pp_tp:\n",
    "        print(f\"With dp_pp_tp: {dp_pp_tp}\\n\")\n",
    "    print(tabulate(experiment_df, headers='keys', tablefmt='psql'))\n",
    "\n"
   ]
  },
  {
   "cell_type": "code",
   "execution_count": 3,
   "metadata": {},
   "outputs": [],
   "source": [
    "csv_file_name = '/hpc2hdd/home/zli755/xueze/reft_ds/Megatron-DeepSpeed/examples_deepspeed/data_efficiency/gpt/data_process/processed_data/strong_scaling.csv'"
   ]
  },
  {
   "cell_type": "code",
   "execution_count": 4,
   "metadata": {},
   "outputs": [
    {
     "name": "stdout",
     "output_type": "stream",
     "text": [
      "Data for experiments: strong_scaling-bubble-sharding-dp_2-sync_record, strong_scaling-bubble-sharding-dp_4-sync_record\n",
      "+----+-------------------------------------------------+-----------------+-----------------+------------------+------------------+-------------------+----------+\n",
      "|    | experiment                                      |   snapshot_time |   snapshot_size |   snapshot_speed |   iteration_time |   samples_per_sec |   tflops |\n",
      "|----+-------------------------------------------------+-----------------+-----------------+------------------+------------------+-------------------+----------|\n",
      "| 19 | strong_scaling-bubble-sharding-dp_4-sync_record |         2.20447 |         2868.03 |          1301.01 |          2.63221 |          12.3301  |  33.7771 |\n",
      "| 25 | strong_scaling-bubble-sharding-dp_2-sync_record |         1.02166 |         5735.3  |          5613.73 |          2.18365 |           7.32913 |  40.1549 |\n",
      "+----+-------------------------------------------------+-----------------+-----------------+------------------+------------------+-------------------+----------+\n"
     ]
    }
   ],
   "source": [
    "experiment_name_list = [\"strong_scaling-bubble-sharding-dp_2-sync_record\",\n",
    "                        \"strong_scaling-bubble-sharding-dp_4-sync_record\",]\n",
    "\n",
    "read_and_print_experiment_data(csv_file_name, experiment_name_list)\n"
   ]
  }
 ],
 "metadata": {
  "kernelspec": {
   "display_name": "reft",
   "language": "python",
   "name": "python3"
  },
  "language_info": {
   "codemirror_mode": {
    "name": "ipython",
    "version": 3
   },
   "file_extension": ".py",
   "mimetype": "text/x-python",
   "name": "python",
   "nbconvert_exporter": "python",
   "pygments_lexer": "ipython3",
   "version": "3.10.0"
  }
 },
 "nbformat": 4,
 "nbformat_minor": 2
}
